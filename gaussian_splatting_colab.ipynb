{
  "cells": [
    {
      "cell_type": "markdown",
      "metadata": {
        "id": "view-in-github",
        "colab_type": "text"
      },
      "source": [
        "<a href=\"https://colab.research.google.com/github/harry-graves/3DGS/blob/main/gaussian_splatting_colab.ipynb\" target=\"_parent\"><img src=\"https://colab.research.google.com/assets/colab-badge.svg\" alt=\"Open In Colab\"/></a>"
      ]
    },
    {
      "cell_type": "code",
      "source": [
        "# Mount Google Drive\n",
        "from google.colab import drive\n",
        "drive.mount('/content/drive')"
      ],
      "metadata": {
        "id": "xD0styQcvR2W"
      },
      "execution_count": null,
      "outputs": []
    },
    {
      "cell_type": "code",
      "source": [
        "# Set up the 3DGS environment\n",
        "%cd /content\n",
        "!git clone --recursive https://github.com/camenduru/gaussian-splatting\n",
        "!pip install -q plyfile\n",
        "\n",
        "%cd /content/gaussian-splatting\n",
        "!pip install -q /content/gaussian-splatting/submodules/diff-gaussian-rasterization\n",
        "!pip install -q /content/gaussian-splatting/submodules/simple-knn"
      ],
      "metadata": {
        "collapsed": true,
        "id": "hMc3dGKnvKzM"
      },
      "execution_count": null,
      "outputs": []
    },
    {
      "cell_type": "code",
      "source": [
        "# Import images and convert - DOESN'T WORK DUE TO COLMAP\n",
        "#!mkdir -p /content/data/input\n",
        "#!cp \"/content/drive/MyDrive/Uni/4th Year/Summer Work/3DGS/photos.zip\" /content\n",
        "#!unzip /content/photos.zip -d /content/data/input\n",
        "#!python convert.py -s /content/data"
      ],
      "metadata": {
        "collapsed": true,
        "id": "C_F2hVmKJM6-"
      },
      "execution_count": null,
      "outputs": []
    },
    {
      "cell_type": "code",
      "source": [
        "# Alternatively import a pre-converted dataset for training\n",
        "# Note the .zip file must NOT unzip into a folder but directly to files\n",
        "!mkdir -p /content/data\n",
        "!cp \"/content/drive/MyDrive/Uni/4th Year/Summer Work/3DGS/data.zip\" /content\n",
        "!unzip /content/data.zip -d /content/data\n",
        "!python train.py -s /content/data"
      ],
      "metadata": {
        "id": "Ap6wTPNX2mnU"
      },
      "execution_count": null,
      "outputs": []
    },
    {
      "cell_type": "code",
      "source": [
        "# Save back to Google Drive\n",
        "!mkdir \"content/drive/MyDrive/Uni/4th Year/Summer Work/3DGS/Outputs\"\n",
        "!cp -r /content/gaussian-splatting/output \"content/drive/MyDrive/Uni/4th Year/Summer Work/3DGS/Outputs\""
      ],
      "metadata": {
        "id": "Oo9RcLKc3jq5"
      },
      "execution_count": null,
      "outputs": []
    }
  ],
  "metadata": {
    "accelerator": "GPU",
    "colab": {
      "gpuType": "T4",
      "provenance": [],
      "include_colab_link": true
    },
    "kernelspec": {
      "display_name": "Python 3",
      "name": "python3"
    },
    "language_info": {
      "name": "python"
    }
  },
  "nbformat": 4,
  "nbformat_minor": 0
}