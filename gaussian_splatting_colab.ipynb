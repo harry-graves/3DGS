{
  "cells": [
    {
      "cell_type": "markdown",
      "metadata": {
        "id": "view-in-github",
        "colab_type": "text"
      },
      "source": [
        "<a href=\"https://colab.research.google.com/github/harry-graves/3DGS/blob/main/gaussian_splatting_colab.ipynb\" target=\"_parent\"><img src=\"https://colab.research.google.com/assets/colab-badge.svg\" alt=\"Open In Colab\"/></a>"
      ]
    },
    {
      "cell_type": "code",
      "source": [
        "# Mount Google Drive\n",
        "from google.colab import drive\n",
        "drive.mount('/content/drive')"
      ],
      "metadata": {
        "colab": {
          "base_uri": "https://localhost:8080/"
        },
        "id": "xD0styQcvR2W",
        "outputId": "f772dbc8-6614-436b-acf7-b728f6b22b46"
      },
      "execution_count": 1,
      "outputs": [
        {
          "output_type": "stream",
          "name": "stdout",
          "text": [
            "Mounted at /content/drive\n"
          ]
        }
      ]
    },
    {
      "cell_type": "code",
      "source": [
        "# Set up the 3DGS environment\n",
        "%cd /content\n",
        "!git clone --recursive https://github.com/camenduru/gaussian-splatting\n",
        "!pip install -q plyfile\n",
        "\n",
        "%cd /content/gaussian-splatting\n",
        "!pip install -q /content/gaussian-splatting/submodules/diff-gaussian-rasterization\n",
        "!pip install -q /content/gaussian-splatting/submodules/simple-knn"
      ],
      "metadata": {
        "collapsed": true,
        "id": "hMc3dGKnvKzM"
      },
      "execution_count": null,
      "outputs": []
    },
    {
      "cell_type": "code",
      "source": [
        "# Installing COLMAP\n",
        "\n",
        "# Set up the environment\n",
        "!apt-get update\n",
        "!apt-get install -y git cmake build-essential libboost-all-dev\n",
        "!apt-get install -y libatlas-base-dev libsuitesparse-dev\n",
        "!apt-get install -y qtbase5-dev libqt5opengl5-dev\n",
        "!apt-get install -y libcgal-dev libcgal-qt5-dev\n",
        "!apt-get install -y libglew-dev\n",
        "!apt-get install -y freeglut3-dev\n",
        "\n",
        "# Clone the COLMAP repository\n",
        "!git clone https://github.com/colmap/colmap.git\n",
        "!mkdir -p colmap/build\n",
        "!cd colmap && git submodule update --init --recursive\n",
        "\n",
        "# Compile COLMAP\n",
        "!cd colmap/build && cmake ..\n",
        "!cd colmap/build && make -j4"
      ],
      "metadata": {
        "collapsed": true,
        "id": "rLon1deRqKPi"
      },
      "execution_count": null,
      "outputs": []
    },
    {
      "cell_type": "code",
      "source": [
        "# Import images\n",
        "!mkdir -p /content/data/input\n",
        "!cp \"/content/drive/MyDrive/Uni/4th Year/Summer Work/3DGS/photos.zip\" /content\n",
        "!unzip /content/photos.zip -d /content/data/input"
      ],
      "metadata": {
        "collapsed": true,
        "id": "C_F2hVmKJM6-",
        "outputId": "04448e76-3b6e-4858-d6b8-87743f184551",
        "colab": {
          "base_uri": "https://localhost:8080/"
        }
      },
      "execution_count": 2,
      "outputs": [
        {
          "output_type": "stream",
          "name": "stdout",
          "text": [
            "Archive:  /content/photos.zip\n",
            "  inflating: /content/data/input/IMG_5135.JPEG  \n",
            "  inflating: /content/data/input/IMG_5136.JPEG  \n",
            "  inflating: /content/data/input/IMG_5137.JPEG  \n",
            "  inflating: /content/data/input/IMG_5138.JPEG  \n",
            "  inflating: /content/data/input/IMG_5139.JPEG  \n",
            "  inflating: /content/data/input/IMG_5140.JPEG  \n",
            "  inflating: /content/data/input/IMG_5141.JPEG  \n",
            "  inflating: /content/data/input/IMG_5142.JPEG  \n",
            "  inflating: /content/data/input/IMG_5143.JPEG  \n",
            "  inflating: /content/data/input/IMG_5144.JPEG  \n",
            "  inflating: /content/data/input/IMG_5145.JPEG  \n",
            "  inflating: /content/data/input/IMG_5146.JPEG  \n",
            "  inflating: /content/data/input/IMG_5147.JPEG  \n",
            "  inflating: /content/data/input/IMG_5148.JPEG  \n",
            "  inflating: /content/data/input/IMG_5149.JPEG  \n",
            "  inflating: /content/data/input/IMG_5150.JPEG  \n",
            "  inflating: /content/data/input/IMG_5151.JPEG  \n",
            "  inflating: /content/data/input/IMG_5152.JPEG  \n",
            "  inflating: /content/data/input/IMG_5153.JPEG  \n",
            "  inflating: /content/data/input/IMG_5154.JPEG  \n",
            "  inflating: /content/data/input/IMG_5155.JPEG  \n",
            "  inflating: /content/data/input/IMG_5156.JPEG  \n",
            "  inflating: /content/data/input/IMG_5157.JPEG  \n",
            "  inflating: /content/data/input/IMG_5158.JPEG  \n",
            "  inflating: /content/data/input/IMG_5159.JPEG  \n",
            "  inflating: /content/data/input/IMG_5160.JPEG  \n",
            "  inflating: /content/data/input/IMG_5161.JPEG  \n",
            "  inflating: /content/data/input/IMG_5162.JPEG  \n",
            "  inflating: /content/data/input/IMG_5163.JPEG  \n",
            "  inflating: /content/data/input/IMG_5164.JPEG  \n",
            "  inflating: /content/data/input/IMG_5165.JPEG  \n",
            "  inflating: /content/data/input/IMG_5166.JPEG  \n",
            "  inflating: /content/data/input/IMG_5167.JPEG  \n",
            "  inflating: /content/data/input/IMG_5168.JPEG  \n",
            "  inflating: /content/data/input/IMG_5169.JPEG  \n",
            "  inflating: /content/data/input/IMG_5170.JPEG  \n",
            "  inflating: /content/data/input/IMG_5171.JPEG  \n",
            "  inflating: /content/data/input/IMG_5172.JPEG  \n",
            "  inflating: /content/data/input/IMG_5173.JPEG  \n",
            "  inflating: /content/data/input/IMG_5174.JPEG  \n",
            "  inflating: /content/data/input/IMG_5175.JPEG  \n",
            "  inflating: /content/data/input/IMG_5176.JPEG  \n",
            "  inflating: /content/data/input/IMG_5177.JPEG  \n",
            "  inflating: /content/data/input/IMG_5178.JPEG  \n",
            "  inflating: /content/data/input/IMG_5179.JPEG  \n",
            "  inflating: /content/data/input/IMG_5180.JPEG  \n",
            "  inflating: /content/data/input/IMG_5181.JPEG  \n",
            "  inflating: /content/data/input/IMG_5182.JPEG  \n",
            "  inflating: /content/data/input/IMG_5183.JPEG  \n",
            "  inflating: /content/data/input/IMG_5184.JPEG  \n",
            "  inflating: /content/data/input/IMG_5185.JPEG  \n",
            "  inflating: /content/data/input/IMG_5186.JPEG  \n",
            "  inflating: /content/data/input/IMG_5187.JPEG  \n",
            "  inflating: /content/data/input/IMG_5188.JPEG  \n",
            "  inflating: /content/data/input/IMG_5189.JPEG  \n",
            "  inflating: /content/data/input/IMG_5190.JPEG  \n",
            "  inflating: /content/data/input/IMG_5191.JPEG  \n",
            "  inflating: /content/data/input/IMG_5192.JPEG  \n",
            "  inflating: /content/data/input/IMG_5193.JPEG  \n",
            "  inflating: /content/data/input/IMG_5194.JPEG  \n",
            "  inflating: /content/data/input/IMG_5195.JPEG  \n",
            "  inflating: /content/data/input/IMG_5196.JPEG  \n",
            "  inflating: /content/data/input/IMG_5197.JPEG  \n",
            "  inflating: /content/data/input/IMG_5198.JPEG  \n",
            "  inflating: /content/data/input/IMG_5199.JPEG  \n",
            "  inflating: /content/data/input/IMG_5200.JPEG  \n",
            "  inflating: /content/data/input/IMG_5201.JPEG  \n",
            "  inflating: /content/data/input/IMG_5202.JPEG  \n",
            "  inflating: /content/data/input/IMG_5203.JPEG  \n",
            "  inflating: /content/data/input/IMG_5204.JPEG  \n",
            "  inflating: /content/data/input/IMG_5205.JPEG  \n",
            "  inflating: /content/data/input/IMG_5206.JPEG  \n",
            "  inflating: /content/data/input/IMG_5207.JPEG  \n",
            "  inflating: /content/data/input/IMG_5208.JPEG  \n",
            "  inflating: /content/data/input/IMG_5209.JPEG  \n",
            "  inflating: /content/data/input/IMG_5210.JPEG  \n",
            "  inflating: /content/data/input/IMG_5211.JPEG  \n",
            "  inflating: /content/data/input/IMG_5212.JPEG  \n",
            "  inflating: /content/data/input/IMG_5213.JPEG  \n",
            "  inflating: /content/data/input/IMG_5214.JPEG  \n",
            "  inflating: /content/data/input/IMG_5215.JPEG  \n",
            "  inflating: /content/data/input/IMG_5216.JPEG  \n",
            "  inflating: /content/data/input/IMG_5217.JPEG  \n",
            "  inflating: /content/data/input/IMG_5218.JPEG  \n",
            "  inflating: /content/data/input/IMG_5219.JPEG  \n",
            "  inflating: /content/data/input/IMG_5220.JPEG  \n",
            "  inflating: /content/data/input/IMG_5221.JPEG  \n",
            "  inflating: /content/data/input/IMG_5222.JPEG  \n",
            "  inflating: /content/data/input/IMG_5223.JPEG  \n",
            "  inflating: /content/data/input/IMG_5224.JPEG  \n",
            "  inflating: /content/data/input/IMG_5225.JPEG  \n",
            "  inflating: /content/data/input/IMG_5226.JPEG  \n",
            "  inflating: /content/data/input/IMG_5227.JPEG  \n",
            "  inflating: /content/data/input/IMG_5228.JPEG  \n",
            "  inflating: /content/data/input/IMG_5229.JPEG  \n",
            "  inflating: /content/data/input/IMG_5230.JPEG  \n",
            "  inflating: /content/data/input/IMG_5231.JPEG  \n",
            "  inflating: /content/data/input/IMG_5232.JPEG  \n",
            "  inflating: /content/data/input/IMG_5233.JPEG  \n",
            "  inflating: /content/data/input/IMG_5234.JPEG  \n",
            "  inflating: /content/data/input/IMG_5235.JPEG  \n",
            "  inflating: /content/data/input/IMG_5236.JPEG  \n",
            "  inflating: /content/data/input/IMG_5237.JPEG  \n",
            "  inflating: /content/data/input/IMG_5238.JPEG  \n",
            "  inflating: /content/data/input/IMG_5239.JPEG  \n",
            "  inflating: /content/data/input/IMG_5240.JPEG  \n",
            "  inflating: /content/data/input/IMG_5241.JPEG  \n",
            "  inflating: /content/data/input/IMG_5242.JPEG  \n"
          ]
        }
      ]
    },
    {
      "cell_type": "code",
      "source": [
        "# Prepare the dataset using convert.py\n",
        "!python convert.py -s /content/data"
      ],
      "metadata": {
        "id": "zIYknk8TDZar"
      },
      "execution_count": null,
      "outputs": []
    },
    {
      "cell_type": "code",
      "execution_count": null,
      "metadata": {
        "id": "VjYy0F2gZIPR"
      },
      "outputs": [],
      "source": [
        "# !wget https://huggingface.co/camenduru/gaussian-splatting/resolve/main/tandt_db.zip\n",
        "# !unzip tandt_db.zip\n",
        "\n",
        "!python train.py -s /content/data\n",
        "\n",
        "# !wget https://huggingface.co/camenduru/gaussian-splatting/resolve/main/GaussianViewTest.zip\n",
        "# !unzip GaussianViewTest.zip\n",
        "# !python render.py -m /content/gaussian-splatting/GaussianViewTest/model\n",
        "# !ffmpeg -framerate 3 -i /content/gaussian-splatting/GaussianViewTest/model/train/ours_30000/renders/%05d.png -vf \"pad=ceil(iw/2)*2:ceil(ih/2)*2\" -c:v libx264 -r 3 -pix_fmt yuv420p /content/renders.mp4\n",
        "# !ffmpeg -framerate 3 -i /content/gaussian-splatting/GaussianViewTest/model/train/ours_30000/gt/%05d.png -vf \"pad=ceil(iw/2)*2:ceil(ih/2)*2\" -c:v libx264 -r 3 -pix_fmt yuv420p /content/gt.mp4 -y"
      ]
    }
  ],
  "metadata": {
    "accelerator": "GPU",
    "colab": {
      "gpuType": "T4",
      "provenance": [],
      "include_colab_link": true
    },
    "kernelspec": {
      "display_name": "Python 3",
      "name": "python3"
    },
    "language_info": {
      "name": "python"
    }
  },
  "nbformat": 4,
  "nbformat_minor": 0
}