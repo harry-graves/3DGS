{
  "cells": [
    {
      "cell_type": "markdown",
      "metadata": {
        "id": "view-in-github",
        "colab_type": "text"
      },
      "source": [
        "<a href=\"https://colab.research.google.com/github/harry-graves/3DGS/blob/main/gaussian_splatting_colab.ipynb\" target=\"_parent\"><img src=\"https://colab.research.google.com/assets/colab-badge.svg\" alt=\"Open In Colab\"/></a>"
      ]
    },
    {
      "cell_type": "code",
      "source": [
        "# Installing COLMAP\n",
        "\n",
        "# Set up the environment\n",
        "!apt-get update\n",
        "!apt-get install -y git cmake build-essential libboost-all-dev\n",
        "!apt-get install -y libatlas-base-dev libsuitesparse-dev\n",
        "!apt-get install -y qtbase5-dev libqt5opengl5-dev\n",
        "!apt-get install -y libcgal-dev libcgal-qt5-dev\n",
        "!apt-get install -y libglew-dev\n",
        "!apt-get install -y freeglut3-dev\n",
        "\n",
        "# Clone the COLMAP repository\n",
        "!git clone https://github.com/colmap/colmap.git\n",
        "!mkdir -p colmap/build\n",
        "!cd colmap && git submodule update --init --recursive\n",
        "\n",
        "# Compile COLMAP\n",
        "!cd colmap/build && cmake ..\n",
        "!cd colmap/build && make -j4"
      ],
      "metadata": {
        "id": "rLon1deRqKPi"
      },
      "execution_count": null,
      "outputs": []
    },
    {
      "cell_type": "code",
      "source": [
        "# Mount OneDrive\n",
        "\n"
      ],
      "metadata": {
        "id": "xD0styQcvR2W"
      },
      "execution_count": null,
      "outputs": []
    },
    {
      "cell_type": "code",
      "source": [
        "# Clone the original 3DGS repository and activate\n",
        "\n",
        "!git clone https://github.com/graphdeco-inria/gaussian-splatting --recursive\n",
        "SET DISTUTILS_USE_SDK=1\n",
        "conda env create --file environment.yml\n",
        "conda activate gaussian_splatting"
      ],
      "metadata": {
        "id": "-HvbkBtdvdwW"
      },
      "execution_count": null,
      "outputs": []
    },
    {
      "cell_type": "code",
      "source": [
        "# Run image preprocessing using convert.py\n",
        "\n"
      ],
      "metadata": {
        "id": "hMc3dGKnvKzM"
      },
      "execution_count": null,
      "outputs": []
    },
    {
      "cell_type": "code",
      "execution_count": null,
      "metadata": {
        "id": "VjYy0F2gZIPR"
      },
      "outputs": [],
      "source": [
        "%cd /content\n",
        "!git clone --recursive https://github.com/camenduru/gaussian-splatting\n",
        "!pip install -q plyfile\n",
        "\n",
        "%cd /content/gaussian-splatting\n",
        "!pip install -q /content/gaussian-splatting/submodules/diff-gaussian-rasterization\n",
        "!pip install -q /content/gaussian-splatting/submodules/simple-knn\n",
        "\n",
        "!wget https://huggingface.co/camenduru/gaussian-splatting/resolve/main/tandt_db.zip\n",
        "!unzip tandt_db.zip\n",
        "\n",
        "!python train.py -s /content/gaussian-splatting/tandt/train\n",
        "\n",
        "# !wget https://huggingface.co/camenduru/gaussian-splatting/resolve/main/GaussianViewTest.zip\n",
        "# !unzip GaussianViewTest.zip\n",
        "# !python render.py -m /content/gaussian-splatting/GaussianViewTest/model\n",
        "# !ffmpeg -framerate 3 -i /content/gaussian-splatting/GaussianViewTest/model/train/ours_30000/renders/%05d.png -vf \"pad=ceil(iw/2)*2:ceil(ih/2)*2\" -c:v libx264 -r 3 -pix_fmt yuv420p /content/renders.mp4\n",
        "# !ffmpeg -framerate 3 -i /content/gaussian-splatting/GaussianViewTest/model/train/ours_30000/gt/%05d.png -vf \"pad=ceil(iw/2)*2:ceil(ih/2)*2\" -c:v libx264 -r 3 -pix_fmt yuv420p /content/gt.mp4 -y"
      ]
    }
  ],
  "metadata": {
    "accelerator": "GPU",
    "colab": {
      "gpuType": "T4",
      "provenance": [],
      "include_colab_link": true
    },
    "kernelspec": {
      "display_name": "Python 3",
      "name": "python3"
    },
    "language_info": {
      "name": "python"
    }
  },
  "nbformat": 4,
  "nbformat_minor": 0
}